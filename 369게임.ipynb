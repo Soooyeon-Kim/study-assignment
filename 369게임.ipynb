{
 "cells": [
  {
   "cell_type": "code",
   "execution_count": 2,
   "metadata": {},
   "outputs": [
    {
     "name": "stdout",
     "output_type": "stream",
     "text": [
      "시작 수와 마지막 수를 입력하세요3 39\n",
      "22 번\n"
     ]
    }
   ],
   "source": [
    "n = input(\"시작 수와 마지막 수를 입력하세요\").split()\n",
    "m = map(int, n)        \n",
    "a, b = m               \n",
    "count = 0\n",
    "for i in range(a, b+1):\n",
    "    j = str(i)\n",
    "    for k in j:\n",
    "        if k in ('3','6','9'):\n",
    "            # print(\"짝\", end='')\n",
    "            count += 1\n",
    "    # print()\n",
    "print(count, \"번\")"
   ]
  }
 ],
 "metadata": {
  "kernelspec": {
   "display_name": "Python 3",
   "language": "python",
   "name": "python3"
  },
  "language_info": {
   "codemirror_mode": {
    "name": "ipython",
    "version": 3
   },
   "file_extension": ".py",
   "mimetype": "text/x-python",
   "name": "python",
   "nbconvert_exporter": "python",
   "pygments_lexer": "ipython3",
   "version": "3.8.5"
  }
 },
 "nbformat": 4,
 "nbformat_minor": 4
}
