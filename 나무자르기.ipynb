{
 "cells": [
  {
   "cell_type": "code",
   "execution_count": 5,
   "id": "e339a564",
   "metadata": {},
   "outputs": [
    {
     "name": "stdout",
     "output_type": "stream",
     "text": [
      "나무의 수와 집으로 가져갈 나무의 길이를 입력하세요.4 7\n",
      "나무들의 길이를 나무의 수와 맞게 입력하세요.20 15 10 17\n",
      "절단기의 최대 높이는 15 m 입니다.\n"
     ]
    }
   ],
   "source": [
    "n, m = list(map(int, input(\"나무의 수와 집으로 가져갈 나무의 길이를 입력하세요.\").split()))\n",
    "arr = list(map(int, input(\"나무들의 길이를 나무의 수와 맞게 입력하세요.\").split()))\n",
    "\n",
    "# 가장 짧은 길이를 start로, 나무 중 가장 긴 길이를 end로 둔다.\n",
    "start = 0\n",
    "end = max(arr)\n",
    "# 절단기 높이 = height\n",
    "height = 0\n",
    "\n",
    "# start와 end가 같아지면: 조건을 만족하는 최대의 나무 절단 높이를 찾으면 탈출\n",
    "while(start <= end):\n",
    "    total = 0 #벌목된 나무 총합\n",
    "    mid = (start + end) // 2\n",
    "    for i in arr:\n",
    "        if i > mid:\n",
    "            total += i - mid\n",
    "            \n",
    "   # 나무가 목표치 이하면 mid-1을 end로 두고 다시 while문 반복\n",
    "    if total < m:\n",
    "        end = mid - 1\n",
    "    \n",
    "    # 나무가 목표치 이상이면 mid+1을 start로 두고 다시 while문 반복\n",
    "    else :\n",
    "        height = mid\n",
    "        start = mid + 1 \n",
    "        \n",
    "\n",
    "\n",
    "# 결과값 출력\n",
    "print(\"절단기의 최대 높이는\" ,result, \"m 입니다.\")"
   ]
  }
 ],
 "metadata": {
  "kernelspec": {
   "display_name": "Python 3",
   "language": "python",
   "name": "python3"
  },
  "language_info": {
   "codemirror_mode": {
    "name": "ipython",
    "version": 3
   },
   "file_extension": ".py",
   "mimetype": "text/x-python",
   "name": "python",
   "nbconvert_exporter": "python",
   "pygments_lexer": "ipython3",
   "version": "3.8.8"
  }
 },
 "nbformat": 4,
 "nbformat_minor": 5
}
