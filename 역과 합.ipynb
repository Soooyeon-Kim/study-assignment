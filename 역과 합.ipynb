{
 "cells": [
  {
   "cell_type": "code",
   "execution_count": 1,
   "metadata": {},
   "outputs": [
    {
     "name": "stdout",
     "output_type": "stream",
     "text": [
      "숫자를 입력하세요. 0을 입력시 종료됩니다.12345\n",
      "54321 15\n",
      "숫자를 입력하세요. 0을 입력시 종료됩니다.9876\n",
      "6789 30\n",
      "숫자를 입력하세요. 0을 입력시 종료됩니다.0\n",
      "종료\n"
     ]
    }
   ],
   "source": [
    "def main():\n",
    "    while True:\n",
    "        num = input(\"숫자를 입력하세요. 0을 입력시 종료됩니다.\")\n",
    "        if num == '0':\n",
    "            print(\"종료\")\n",
    "            break\n",
    "        else:\n",
    "            print(num[::-1], sum(map(int, str(num))))\n",
    "\n",
    "main()"
   ]
  }
 ],
 "metadata": {
  "kernelspec": {
   "display_name": "Python 3",
   "language": "python",
   "name": "python3"
  },
  "language_info": {
   "codemirror_mode": {
    "name": "ipython",
    "version": 3
   },
   "file_extension": ".py",
   "mimetype": "text/x-python",
   "name": "python",
   "nbconvert_exporter": "python",
   "pygments_lexer": "ipython3",
   "version": "3.8.5"
  }
 },
 "nbformat": 4,
 "nbformat_minor": 4
}
